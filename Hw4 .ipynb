{
 "cells": [
  {
   "cell_type": "markdown",
   "id": "protective-motivation",
   "metadata": {},
   "source": [
    "### Question: 1\n",
    "(4 points) Solve the following \"projection on a Euclidean ball\" problem via dual function.The $c, z \\in \\mathbb{R}^{n}$ and $r>0$ are parameters.\n",
    "$$\n",
    "\\min _{x \\in \\mathbb{R}^{n}:\\|x-c\\| \\leq r}\\|z-x\\|_{2}\n",
    "$$\n",
    "(Hint: make the target function differentiable and rewrite constraints in more convenient form.)\n"
   ]
  },
  {
   "cell_type": "markdown",
   "id": "growing-column",
   "metadata": {},
   "source": [
    "#### Solution\n",
    "Objective function: $$ \\|z-x\\|^2_{2} $$\n",
    "Subject to: $$ \\|x-c\\|^2 \\leq r^2 $$\n",
    "Lagrance function: \n",
    "\\begin{align*} \n",
    "L(x, \\lambda, \\nu) &= f_{0}(x)+\\sum_{i=1}^{m} \\lambda_{i} f_{i}(x)+\\sum_{j=1}^{\\ell} \\nu_{j} h_{j}(x) \\\\\n",
    "&= \\|z-x\\|^2_{2}+\\lambda  (\\|x-c\\|^2 -r^2)\\\\\n",
    "&= (z-x)^T(z-x)+\\lambda  ((x-c)^T(x-c) -r^2)\\\\\n",
    "\\nabla L(x, \\lambda)  &= -2(z-x) +\\lambda(2(x-c)-2r) = 0\\\\\n",
    "x^* &= \\frac{c\\lambda + z}{1+\\lambda}\n",
    "\\end{align*} \n",
    "Lagrance dual function: \n",
    "\\begin{align*} \n",
    "d(\\lambda) &=\\inf_x L(x,\\lambda) =\\|z-\\frac{c\\lambda + z}{1+\\lambda}\\|^2_{2}+\\lambda (\\|\\frac{c\\lambda + z}{1+\\lambda}-c\\|^2 -r^2)\\\\\n",
    "&= \\frac{\\lambda}{1+\\lambda}\\|z-c\\|^2_2-\\lambda r^2  \\\\\n",
    "&= \\frac{\\lambda}{1+\\lambda}\\|z-c\\|^2_2-\\lambda r^2 (งง)\n",
    "\\end{align*} \n",
    "Find optimal $\\lambda$\n",
    "\\begin{align*}\n",
    "\\nabla d &= \\|z-c\\|^2_2( (1+\\lambda)^{-1} -\\lambda(1+\\lambda)^{-2} )-r^2 = 0 \\\\\n",
    "\\frac{1}{1+\\lambda} &= \\pm \\frac{r}{ \\|z-c\\|} \\\\ \n",
    "\\lambda^* &= \\pm \\frac{ \\|z-c\\|}{r}-1\n",
    "\\end{align*} \n",
    "And $$ \\lambda \\geq 0 $$\n",
    "With respect to \n",
    "\\begin{align*}\n",
    "\\nabla^2 d &= \\|z-c\\|^2_2 ( -(1+\\lambda)^{-2} - (1+\\lambda)^{-2} +2\\lambda (1+\\lambda)^{-1} ) \n",
    "1+\\lambda \\leq 0 \\,\\,\\,\\,{งง}\n",
    "\\end{align*} \n",
    "So that\n",
    "\\begin{align*}\n",
    "x^* &= \\frac{c\\lambda^* + z}{1+\\lambda^*}\n",
    "&= \\frac{c\\frac{ \\|z-c\\|}{r}-c + z}{\\frac{ \\|z-c\\|}{r}}\n",
    "&= \\frac{c \\|z-c\\|-rc + zr}{\\|z-c\\|}\n",
    "\\end{align*}"
   ]
  },
  {
   "cell_type": "markdown",
   "id": "olympic-nylon",
   "metadata": {},
   "source": [
    "### Question: 2\n",
    "(4 points) Find projection of a point to hyperplane $Q=\\{(a, x)=b\\}, a \\neq 0$ via solving dual problem, with projection defined as a closest point on the set\n",
    "$$\n",
    "\\boldsymbol{\\operatorname { P r o j }}_{Q}(z)=\\min _{x \\in Q}\\|x-z\\|_{2}\n",
    "$$\n",
    "i.e. solve\n",
    "$$\n",
    "\\min _{(a, x)=b}\\|x-z\\|_{2}\n",
    "$$"
   ]
  },
  {
   "cell_type": "markdown",
   "id": "circular-burton",
   "metadata": {},
   "source": [
    "#### Solution\n",
    "Objective function: $$ \\|z-x\\|^2_{2} $$\n",
    "Subject to: $$ (a,x)-b=0 $$\n",
    "Lagrance function: \n",
    "\\begin{align*} \n",
    "L(x, \\lambda, \\nu) &= f_{0}(x)+\\sum_{i=1}^{m} \\lambda_{i} f_{i}(x)+\\sum_{j=1}^{\\ell} \\nu_{j} h_{j}(x) \\\\\n",
    "L(x, \\nu) &= \\|z-x\\|^2_{2}+\\nu  ((a,x)-b)\\\\ \n",
    "\\nabla L(x, \\nu)  &= -2(z-x) +\\nu a^T = 0\\\\\n",
    "2x  &= -\\nu a^T + 2z\\\\\n",
    "x^* &=  \\frac{-\\nu a^T + 2z}{2}\n",
    "\\end{align*} \n",
    "Lagrance dual function: \n",
    "\\begin{align*} \n",
    "d(\\nu) &=\\inf_x L(x,\\lambda) = \\|z-\\frac{-\\nu a^T + 2z}{2}\\|^2_{2}+\\nu  ((a,\\frac{-\\nu a^T + 2z}{2})-b)\\\\ \n",
    "&= (z-\\frac{-\\nu a^T + 2z}{2},z-\\frac{-\\nu a^T + 2z}{2})+\\nu  ((a,\\frac{-\\nu a^T + 2z}{2})-b)\\\\\n",
    "&= (z-\\frac{-\\nu a^T + 2z}{2})^T (z-\\frac{-\\nu a^T + 2z}{2})+\\nu a^T \\frac{-\\nu a^T + 2z}{2}-\\nu b\\\\\n",
    "&= (z^T-\\frac{-a\\nu^T + 2z^T}{2})(z-\\frac{-\\nu a^T + 2z}{2})+\\nu a^T \\frac{-\\nu a^T + 2z}{2}-\\nu b\\\\\n",
    "&= (z^T z -\\frac{-a\\nu^T z + 2z^T z}{2} -z^T\\frac{-\\nu a^T + 2z}{2}+\\frac{-a\\nu^T + 2z^T}{2}\\frac{-\\nu a^T + 2z}{2})+\\nu a^T \\frac{-\\nu a^T + 2z}{2}-\\nu b\\\\\n",
    "&=-\\frac{\\nu^{2}}{4}\\|a\\|^{2}+\\nu a^{\\top} z-\\nu b^{\\top}\n",
    "\\end{align*} \n",
    "Find optimal $\\lambda$\n",
    "\\begin{align*}\n",
    "\\nabla d &=-\\frac{\\nu}{2}\\|a\\|^{2}+a^{\\top} z- b^{\\top} = 0\\\\\n",
    "\\nu^* &= \\frac{2( b^{T}-a^{T} z)}{\\|a\\|^{2}}\n",
    "\\end{align*} \n",
    "And $$ \\lambda \\geq 0 $$\n",
    "So that\n",
    "\\begin{align*}\n",
    "x^* &=  \\frac{-\\frac{2( b^{T}-a^{T} z)}{\\|a\\|^{2}} a^T + 2z}{2}\\\\\n",
    "&=  \\frac{-( b^{T}-a^{T} z) a^T}{\\|a\\|^{2}} + z \n",
    "\\end{align*}"
   ]
  },
  {
   "cell_type": "markdown",
   "id": "attached-contributor",
   "metadata": {},
   "source": [
    "\n",
    "### Question: 3\n",
    "(4 points) Write down dual function and its domain for the constrained optimization problem $\\left(f: \\mathbb{R}^{n} \\rightarrow \\mathbb{R}, A \\in \\mathbb{R}^{m \\times n}, b \\in \\mathbb{R}^{m}\\right)$\n",
    "$$\n",
    "\\min _{A x=b} f(x) \n",
    "$$\n",
    "via conjugate function $ f^*(y) = \\sup_{x\\in R^n}((x,y) −f(x))$ "
   ]
  },
  {
   "cell_type": "markdown",
   "id": "constant-damages",
   "metadata": {},
   "source": [
    "##### Solution\n",
    "Objective function: $$f(x)$$\n",
    "Subject to: $$ Ax-b=0$$\n",
    "Lagrance function: \n",
    "\\begin{align*} \n",
    "L(x, \\lambda, \\nu) &= f_{0}(x)+\\sum_{i=1}^{m} \\lambda_{i} f_{i}(x)+\\sum_{j=1}^{\\ell} \\nu_{j} h_{j}(x) \\\\\n",
    "L(x, \\nu) &=f(x)+ \\nu^T (Ax-b)\\\\\n",
    "\\end{align*} \n",
    "Lagrance dual function: \n",
    "\\begin{align*} \n",
    "d(\\nu) &= \\inf_{x}{L(x,\\nu)} = \\inf_{x}({f(x)+ \\nu^T (Ax-b)} )\\\\\n",
    "&= \\sup_{x}({-f(x)- \\nu^T (Ax-b)})\\\\\n",
    "&= -f^*(- \\nu^T A)-\\nu^T b \n",
    "\\end{align*} \n",
    "Which is the same as the form of conjucate function is $f^*(y) = \\sup_{x}(y^T x - f(x))$"
   ]
  },
  {
   "cell_type": "markdown",
   "id": "independent-patient",
   "metadata": {},
   "source": [
    "### Question: 4\n",
    "$(4+4$ points) a) Derive (Lagrange) dual function $d(\\cdot)$, and write down dual problem for the following primal problem:\n",
    "$$\n",
    "\\min _{(A x, x) \\leq 1}(c, x)\n",
    "$$\n",
    "where $x, c \\in \\mathbb{R}^{n}, c \\neq 0, A \\in \\mathbb{S}_{n}, A \\succ 0$.\n",
    "b) solve the dual problem and find solution to the primal one."
   ]
  },
  {
   "cell_type": "markdown",
   "id": "animated-enemy",
   "metadata": {},
   "source": [
    "##### Solution\n",
    "Objective function: $$(c,x)$$\n",
    "Subject to: $$ (Ax,x)-1<0$$\n",
    "Lagrance function: \n",
    "\\begin{align*} \n",
    "L(x, \\lambda, \\nu) &= f_{0}(x)+\\sum_{i=1}^{m} \\lambda_{i} f_{i}(x)+\\sum_{j=1}^{\\ell} \\nu_{j} h_{j}(x) \\\\\n",
    "L(x, \\lambda) &= (c,x)+ \\lambda((Ax,x)-1)\\\\\n",
    "\\nabla L(x, \\lambda) &= c^T + \\lambda(2Ax)  =0\\\\\n",
    "x^* &= \\frac{-c^T}{2\\lambda A}\n",
    "\\end{align*} \n",
    "Lagrance dual function: \n",
    "\\begin{align*} \n",
    "d(\\lambda) &= \\inf_{x}{L(x, \\lambda)} = (c,\\frac{-c^T}{2\\lambda A})+ \\lambda((A\\frac{-c^T}{2\\lambda A},\\frac{-c^T}{2\\lambda A})-1)\\\\\n",
    " &=-\\frac{1}{4A \\lambda} c^{\\top} c-\\lambda\n",
    "\\end{align*}\n",
    "Find optimal $\\lambda$\n",
    "\\begin{align*}\n",
    "\\nabla d &=  \\frac{1}{4A \\lambda^2} c^{\\top} c -1=0\\\\\n",
    "\\lambda^* &= \\pm \\sqrt{\\frac{A}{4c^{\\top} c} }= \\pm \\sqrt{\\frac{c^{-\\top} A c^{-1}}{4} }\n",
    "\\end{align*}\n",
    "So that\n",
    "\\begin{align*}\n",
    "x^* &=  \\frac{-c^T}{ \\sqrt{c^{-\\top} A c^{-1} } A}\\\\\n",
    "p^* &= f^* = (c,\\frac{-c^T}{ \\sqrt{c^{-\\top} A c^{-1} } A})+  \\sqrt{\\frac{c^{-\\top} A c^{-1}}{4} }((A \\frac{-c^T}{ \\sqrt{c^{-\\top} A c^{-1} } A},\\frac{-c^T}{ \\sqrt{c^{-\\top} A c^{-1} } A})-1)\\\\\n",
    "&=(c,\\frac{-c^T}{ \\sqrt{c^{-\\top} A c^{-1} } A})+ \\frac{1}{2}((-c^T , -c^T A)-1)\\\\\n",
    "\\end{align*}"
   ]
  },
  {
   "cell_type": "markdown",
   "id": "fossil-effect",
   "metadata": {},
   "source": [
    "### Question 5\n",
    "(6 points) Consider the optimization problem\n",
    "$$\n",
    "\\begin{gathered}\n",
    "\\min x^{2}+1 \\\\\n",
    "\\text { subject to }(x-2)(x-4) \\leq 0\n",
    "\\end{gathered}\n",
    "$$\n",
    "with variable $x \\in \\mathbb{R}$.\n",
    "\n",
    "1. Analysis of primal problem: Give the feasible set, the optimal solution $x^{*}$ and the optimal value $p^{*}$\n",
    "2. Lagrangian and dual function: Plot the objective $x^{2}+1$ versus $x$. On the same plot, show the feasible set, optimal point and value, and plot the Lagrangian $L(x, \\lambda)$ versus $x$ for a few positive values of $\\lambda$. Verify the lower bound property $\\left(p^{*} \\geq \\inf _{x} L(x, \\lambda)\\right.$ for $\\left.\\lambda \\geq 0\\right)$. Derive and sketch the Lagrange dual function $g$.\n",
    "3. State the dual problem, and verify that it is a concave maximization problem. Find the dual optimal solution $\\lambda^{*} ?$ and the dual optimal value $d^{*}$. Does strong duality hold?\n"
   ]
  },
  {
   "cell_type": "markdown",
   "id": "otherwise-newspaper",
   "metadata": {},
   "source": [
    "### 5.1"
   ]
  },
  {
   "cell_type": "markdown",
   "id": "acting-cheat",
   "metadata": {},
   "source": [
    "Constraint: $2\\leq x \\leq 4$\n",
    "\n",
    "The feasible set =  $[2,4]$\n",
    "\n",
    "Minimum $x^*$ = 2 \n",
    "\n",
    "Optimal value ($p^*$) = 5"
   ]
  },
  {
   "cell_type": "markdown",
   "id": "wound-islam",
   "metadata": {},
   "source": [
    "### 5.2-5.3"
   ]
  },
  {
   "cell_type": "markdown",
   "id": "square-shakespeare",
   "metadata": {},
   "source": [
    "Objective function: $$x^2 + 1$$\n",
    "Subject to: $$ (x-2)(x-4) \\leq 0$$\n",
    "Lagrance function: \n",
    "\\begin{align*} \n",
    "L(x, \\lambda, \\nu) &= f_{0}(x)+\\sum_{i=1}^{m} \\lambda_{i} f_{i}(x)+\\sum_{j=1}^{\\ell} \\nu_{j} h_{j}(x) \\\\\n",
    "L(x, \\lambda) &= x^2 + 1 + \\lambda(x-2)(x-4)= x^2 + 1 + \\lambda(x^2-6x+8)\\\\\n",
    "\\nabla L(x, \\lambda)  &= 2x + \\lambda(2x-6)   = 0\\\\\n",
    "x^* &= \\frac{3 \\lambda}{1+ \\lambda}\n",
    "\\end{align*} \n",
    "Lagrance dual function: \n",
    "\\begin{align*} \n",
    "d(\\lambda) &= \\inf_{x}{L(x,\\lambda)} = \\inf_{x}(x^2 + 1 + \\lambda(x-2)(x-4))\\\\\n",
    "&= (\\frac{3 \\lambda}{1+ \\lambda})^2 + 1 + \\lambda(\\frac{3 \\lambda}{1+ \\lambda}-2)(\\frac{3 \\lambda}{1+ \\lambda}-4)\\\\\n",
    "&=\\frac{- \\lambda^2 + 9  \\lambda + 1}{1 +  \\lambda}\n",
    "\\end{align*}  \n",
    "Find optimal $\\lambda$\n",
    "\\begin{align*}\n",
    "\\nabla d & =\\frac{(-2 \\lambda + 9)(1 +  \\lambda) - (- \\lambda^2 + 9  \\lambda + 1)(\\lambda)}{(1 +  \\lambda)^2} =0\\\\\n",
    "& =\\frac{-\\lambda^{2}-2 \\lambda+8}{(1+\\lambda)^{2}}\\\\\n",
    "\\lambda^* &= -4,2\n",
    "\\end{align*} \n",
    "Wrt.\n",
    "\\begin{align*}\n",
    "\\nabla^2 d &= \\frac{(-2\\lambda-2 )(1+\\lambda)^2-2(1+\\lambda)(-\\lambda^{2}-2 \\lambda+8)}{(1 +  \\lambda)^3}\\leq0\\\\\n",
    "\\end{align*} \n",
    "$x^*$ cannot be -4\n",
    "\n",
    "So that\n",
    "\\begin{align*}\n",
    "x^* &=  \\frac{3 \\lambda}{1+ \\lambda}=\\frac{3 * 2}{1+ 2}\\\\\n",
    "&= 2\\\\\n",
    "p^* &= f(x^*) =  2^2 + 1  = 5\\\\\n",
    "d^* &= d(\\lambda^*) =\\frac{- 2^2 + 9 * 2 + 1}{1 +  2}=5\\\\\n",
    "\\text{Strong Duality:}\\,\\,\\,p^* &=d^*\n",
    "\\end{align*}"
   ]
  },
  {
   "cell_type": "code",
   "execution_count": 1,
   "id": "speaking-palmer",
   "metadata": {},
   "outputs": [
    {
     "data": {
      "image/png": "[encoded data removed]",
      "text/plain": [
       "<Figure size 720x720 with 1 Axes>"
      ]
     },
     "metadata": {
      "needs_background": "light"
     },
     "output_type": "display_data"
    }
   ],
   "source": [
    "import numpy as np\n",
    "import matplotlib.pyplot as plt \n",
    "def lagrance(x,ld):\n",
    "    fn = x**2 + 1 + ld * (x**2 - 6 * x + 8)\n",
    "    return fn\n",
    "x = np.linspace(-2, 8, 100)\n",
    "y1 = np.power(x, 2) + 1\n",
    "y2 = lagrance(x,1)\n",
    "y3 = lagrance(x,2)\n",
    "y4 = lagrance(x,3)\n",
    "plt.figure(figsize=(10, 10))\n",
    "plt.title(r\"$f(x)=x^2+1; \\,\\,constraint\\,(x-2)(x-4)\\leq 0$\", fontweight=\"700\", fontsize=12)\n",
    "plt.plot(x, y1, label=r\"$f(x)=x^2+1$\", linewidth=4 )\n",
    "plt.plot(2, 5,  'ro',label=\"Optimal x = 2\", linewidth= 8 )\n",
    "plt.plot(x, y2, label=r\"$f(x)=x^{2}+1+𝜆(𝑥^2−6𝑥+8);\\,\\,\\lambda = 1$\", linestyle = 'dotted')\n",
    "plt.plot(x, y3, label=r\"$f(x)=x^{2}+1+𝜆(𝑥^2−6𝑥+8);\\,\\,\\lambda = 2$\", linestyle = 'dotted')\n",
    "plt.plot(x, y4, label=r\"$f(x)=x^{2}+1+𝜆(𝑥^2−6𝑥+8);\\,\\,\\lambda = 3$\", linestyle = 'dotted')\n",
    "plt.axvspan(2, 4, facecolor='g', alpha=0.2, label=\"Feasible set\")\n",
    "plt.rcParams[\"figure.figsize\"] = (20,3)\n",
    "plt.xlabel(r\"$x$\", fontweight=\"700\", fontsize=12)\n",
    "plt.legend()\n",
    "plt.show()"
   ]
  },
  {
   "cell_type": "markdown",
   "id": "equal-queens",
   "metadata": {},
   "source": [
    "From **below** figure, it is clear that the Lagrance dual function is concave. "
   ]
  },
  {
   "cell_type": "code",
   "execution_count": 2,
   "id": "sorted-polyester",
   "metadata": {},
   "outputs": [
    {
     "data": {
      "image/png": "[encoded data removed]",
      "text/plain": [
       "<Figure size 360x504 with 1 Axes>"
      ]
     },
     "metadata": {
      "needs_background": "light"
     },
     "output_type": "display_data"
    }
   ],
   "source": [
    "def lagrance_dual(ld):\n",
    "    fn = (-ld ** 2 + 9 * ld + 1)/(ld + 1)\n",
    "    return fn\n",
    "x = np.linspace(0, 5, 100)\n",
    "y6 = lagrance_dual(x)\n",
    "plt.figure(figsize=(5, 7))\n",
    "plt.title(r\"$d(\\lambda)=\\frac{- \\lambda^2 + 9  \\lambda + 1}{1 +  \\lambda}$\", fontweight=\"700\", fontsize=12)\n",
    "plt.plot(2, 5,  'ro',label=r\"Optimal $\\lambda$ = 2\", linewidth= 8 )\n",
    "plt.plot(x, y6, label=r\"$d(\\lambda)$\", linewidth=2 ) \n",
    "plt.xlabel(r\"$\\lambda$\", fontweight=\"700\", fontsize=12)\n",
    "plt.legend()\n",
    "plt.show()"
   ]
  },
  {
   "cell_type": "markdown",
   "id": "finnish-removal",
   "metadata": {},
   "source": [
    "### Question 6\n",
    "(10 points) Consider the general quadratic programming problem with linear constraints\n",
    "$$\n",
    "\\min _{x} \\frac{1}{2} x^{\\top} P x+(x, q)\n",
    "$$\n",
    "subject to $A x \\leq b$\n",
    "We will assume that $P$ is symmetric positive definite (and so has full rank).\n",
    "1. Find the dual.\n",
    "2. Show how the primal optimal solution $x^{*}$ can be computed from the dual optimal solution $\\lambda^{*}$. (You should be able to convince yourself that both programs have unique solutions.)\n",
    "3. Describe an implementation of ADMM to solve the dual problem (in a non-distributed manner, to start). Why is ADMM easier on the dual than the primal?\n",
    "4. Describe how we can write the dual as\n",
    "$$\n",
    "\\min _{\\alpha, \\beta} g(\\alpha)+h(\\beta)\n",
    "$$\n",
    "where $g(.)$ is separable (a sum of individual components of $\\alpha$ ) and $h(.)$ is an indicator of a convex set which we can easily project onto. Write down explicitly how this projection operator works."
   ]
  },
  {
   "cell_type": "markdown",
   "id": "powered-figure",
   "metadata": {},
   "source": [
    "#### Solution\n",
    "#### 6.1-6.2\n",
    "Objective function: $$\\frac{1}{2} x^{\\top} P x+(x, q)$$\n",
    "Subject to: $$ A x \\leq b$$\n",
    "Lagrance function: \n",
    "\\begin{align*} \n",
    "L(x, \\lambda, \\nu) &= f_{0}(x)+\\sum_{i=1}^{m} \\lambda_{i} f_{i}(x)+\\sum_{j=1}^{\\ell} \\nu_{j} h_{j}(x) \\\\\n",
    "L(x, \\lambda) &= \\frac{1}{2} x^{\\top} P x+(x, q) + \\lambda (Ax-b) \\\\\n",
    "\\nabla L(x, \\lambda)  &=  xP + q + \\lambda^T A= 0\\\\\n",
    "x^* &= -\\frac{q + \\lambda A^T}{P} = -P^{-1}(q + \\lambda A^T)  \\\\\n",
    "\\end{align*} \n",
    "Lagrance dual function: \n",
    "\\begin{align*} \n",
    "d(\\lambda) &=\\inf_x L(x,\\lambda) =  \\frac{1}{2} x^{\\top} P x+(x, q) + \\lambda^T (Ax-b) \\\\\n",
    "&=  \\frac{1}{2} (-P^{-1}(q + \\lambda A^T))^{T} P (-P^{-1}(q + \\lambda A^T))+((-P^{-1}(q + \\lambda A^T)), q) + \\lambda^T (A(-P^{-1}(q + \\lambda A^T))-b) \\\\\n",
    "&=  \\frac{1}{2} (P^{-T}(q^{T} + A \\lambda^T)) P (P^{-1}(q + \\lambda A^T))-P^{-T}(q^T + A \\lambda^T) q -\\lambda^T AP^{-1}(q + \\lambda A^T))-\\lambda^T b \\\\\n",
    "&=  \\frac{1}{2} (P^{-1}(q^{T} + A \\lambda^T),(q^{T} + A \\lambda^T))-P^{-T}(q^T + A \\lambda^T) q -\\lambda^T AP^{-1}(q + \\lambda A^T))-\\lambda^T b \\\\\n",
    "&=  \\frac{1}{2} (P^{-1}(q q^{T}  +  \\lambda A^T q^{T} + q A \\lambda^T +  \\lambda A^T A \\lambda^T)  -P^{-T}q^T q - P^{-T} A \\lambda^T q -\\lambda^T AP^{-1}q -\\lambda^T AP^{-1} \\lambda A^T-\\lambda^T b \\\\\n",
    "&=  -\\frac{1}{2} q^{T} P^{-1} q-\\frac{1}{2} P^{-1}\\lambda A^T A \\lambda^T - P^{-1} q A \\lambda^T-\\lambda^T b \\\\\n",
    "\\end{align*} \n",
    "Find optimal $\\lambda$\n",
    "\\begin{align*}\n",
    "\\nabla d &=  -P^{-1}\\lambda A^T A  - P^{-1} q A - b =0 \\\\\n",
    "\\lambda^* &=  -\\frac{P^{-1} q A + b}{P^{-1}A^T A} =-\\frac{q A + Pb}{A^T A} = -(q A + P b)(A^T A)^{-1} \\\\\n",
    "\\end{align*} \n",
    "And $$ \\lambda \\geq 0 $$\n",
    "With respect to \n",
    "\\begin{align*}\n",
    "\\nabla^2 d &= -P^{-1}  A^T A   \\leq 0 \\\\\n",
    "\\end{align*} \n",
    "So that\n",
    "\\begin{align*}\n",
    "x^* &= -P^{-1}(q -\\frac{q A + Pb}{A}) = -P^{-1}q + \\frac{P^{-1}q A + b}{A}\\\\\n",
    "&=\\frac{b}{A}\n",
    "\\end{align*}"
   ]
  },
  {
   "cell_type": "markdown",
   "id": "widespread-pension",
   "metadata": {},
   "source": [
    "#### 6.3 ADMM\n",
    "Alternating direction method of multipliers or ADMM:  \n",
    "$$\n",
    "\\min _{x} \\frac{1}{2} x^{T} P x+(x, q)\n",
    "$$\n",
    "subject to $A x - b \\leq 0 $\n",
    "\n",
    "We define augmented Lagrangian, for a parameter $\\rho>0$. \n",
    "\n",
    "Since it is easier to work with equality constraint so we reformulate from  $A x - b \\leq 0 $ to $\\max\\{0, A x - b\\}^2=0$. For the primal constraint, we need special case of extension of ADMM, \n",
    "where $μ_i,g , μ_i,$ and $λ_i$ are the Lagrange multipliers (dual variables)\n",
    "\n",
    "\n",
    "$\\begin{aligned} \n",
    "L_{\\rho}\\left(x_{i}, z, \\mu_{i, g}, \\mu_{i, h}, \\lambda\\right)=& \\sum_{i=1}^{m} f\\left(x_{i}\\right)+ \\sum_{i=1}^{m} g\\left(z_{i}\\right)+\\frac{\\rho}{2} \\sum_{i=1}^{m}\\left\\|\\max \\left\\{0, \\max\\{0, A x - b\\}^2\\left(x_{i}\\right)\\right\\}^{2}\\right\\|^{2} \\\\ \n",
    "&+\\sum_{i}^{m}\\left(\\mu_{i, g}\\right)^{\\top} \\max \\left\\{0, \\max\\{0, A x - b\\}^2\\left(x_{i}\\right)\\right\\}^{2} \\\\ \n",
    "&+\\frac{\\rho}{2} \\sum_{i=1}^{m}\\left\\|x_{i}-z\\right\\|^{2}+\\sum_{i}^{m}\\left(\\lambda_{i}\\right)^{\\top}\\left(x_{i}-z\\right) \n",
    "\\end{aligned}$\n",
    "\n",
    "\n",
    "In addition the update of the x,z,$\\mu$ and $\\lambda$ variables are needed to be reformulated. To sum up, every iteration is needed to ensure feasibility and thus needs to project onto the feasible set according to inequality constraint ($A x - b \\leq 0 $). These projections are quadratic, non-linearly constrained optimization problems. So primal problem is much harder than dual problem in ADMM.\n",
    "\n",
    "ref: https://arxiv.org/pdf/1610.02967.pdf\n",
    "<!-- \\begin{align*}\n",
    "L_{\\rho}(x, z, u)&=f(x)+g(z)+u^{T}(A x+B z-c)+\\frac{\\rho}{2}\\|A x+B z-c\\|_{2}^{2}\\\\\n",
    "&= \\frac{1}{2} x^{T} P x + (x, q) +u^{T}(\\max\\{0, A x - b\\}^2)+\\frac{\\rho}{2}\\|\\max\\{0, A x - b\\}^2\\|_{2}^{2}\\\\\n",
    "\\end{align*}\n",
    "We repeat, for $k=1,2,3, \\ldots$\n",
    "\\begin{aligned} \n",
    "x^{k+1} &:=\\underset{x}{\\operatorname{argmin}}\\left(\\frac{1}{2} x^{T} P x+(\\rho / 2)\\left\\|\\max\\{0, A x - b\\}^2+u^{k}\\right\\|_{2}^{2}\\right) \\\\\n",
    "z^{k+1} &:=\\underset{z}{\\operatorname{argmin}}\\left((x, q)+(\\rho / 2)\\left\\|\\max\\{0, A x^{k+1} - b\\}^2+u^{k}\\right\\|_{2}^{2}\\right) \\\\ \n",
    "u^{k+1} &:=u^{k}+\\left(A x^{k+1}+B z^{k+1}-c\\right) \n",
    "\\end{aligned} -->"
   ]
  },
  {
   "cell_type": "markdown",
   "id": "future-cycle",
   "metadata": {},
   "source": [
    "#### 6.4. \n",
    "Describe how we can write the dual as\n",
    "$$\n",
    "\\min _{\\alpha, \\beta} g(\\alpha)+h(\\beta)\n",
    "$$\n",
    "where $g(.)$ is separable (a sum of individual components of $\\alpha$ ) and $h(.)$ is an indicator of a convex set which we can easily project onto. Write down explicitly how this projection operator works."
   ]
  },
  {
   "cell_type": "markdown",
   "id": "editorial-david",
   "metadata": {},
   "source": [
    "##### solution\n",
    "The dual function: $$ d(\\lambda) = -\\frac{1}{2} q^{T} P^{-1} q-\\frac{1}{2} P^{-1}\\lambda A^T A \\lambda^T - P^{-1} q A \\lambda^T-\\lambda^T b \\\\\n",
    "g(\\alpha) = -\\frac{1}{2} q^{T} P^{-1} q-\\frac{1}{2} P^{-1}\\alpha A^T A \\alpha^T - P^{-1} q A \\alpha^T-\\alpha^T b \\\\\n",
    "$$\n",
    "The projection of $\\beta$ onto S which is made of matrices forms a convex set $S^n$ and given $\\beta \\in S^n$: $$\\text{Proj}_{S}(\\beta) = (\\beta, S) = \\beta^T S $$  \n",
    "\n",
    "So that\n",
    "\\begin{aligned} \n",
    "\\min _{\\alpha, \\beta} g(\\alpha)+h(\\beta) &= \\min _{\\alpha, \\beta} -\\frac{1}{2} q^{T} P^{-1} q-\\frac{1}{2} P^{-1}\\alpha A^T A \\alpha^T - P^{-1} q A \\alpha^T-\\alpha^T b +(\\beta, S)\\\\\n",
    "\\end{aligned} "
   ]
  },
  {
   "cell_type": "code",
   "execution_count": null,
   "id": "finished-pricing",
   "metadata": {},
   "outputs": [],
   "source": []
  },
  {
   "cell_type": "code",
   "execution_count": null,
   "id": "novel-controversy",
   "metadata": {},
   "outputs": [],
   "source": []
  },
  {
   "cell_type": "code",
   "execution_count": 4,
   "id": "fatty-indonesia",
   "metadata": {},
   "outputs": [],
   "source": []
  },
  {
   "cell_type": "code",
   "execution_count": null,
   "id": "productive-incentive",
   "metadata": {},
   "outputs": [],
   "source": []
  }
 ],
 "metadata": {
  "kernelspec": {
   "display_name": "Python 3",
   "language": "python",
   "name": "python3"
  },
  "language_info": {
   "codemirror_mode": {
    "name": "ipython",
    "version": 3
   },
   "file_extension": ".py",
   "mimetype": "text/x-python",
   "name": "python",
   "nbconvert_exporter": "python",
   "pygments_lexer": "ipython3",
   "version": "3.8.3"
  }
 },
 "nbformat": 4,
 "nbformat_minor": 5
}
