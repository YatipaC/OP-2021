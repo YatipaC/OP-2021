{
 "cells": [
  {
   "cell_type": "markdown",
   "id": "ranging-joining",
   "metadata": {},
   "source": [
    "### **Question 01**\n",
    "(2 point) \n",
    "\n",
    "Find minimum (i.e. both point $x^{*}$ and function value $f^{*}=f\\left(x^{*}\\right)$ ) of function with respect to parameters $a, b, c:$\n",
    "$$\n",
    "f(x)=a x^{2}+b x+c\n",
    "$$"
   ]
  },
  {
   "cell_type": "markdown",
   "id": "painful-selection",
   "metadata": {},
   "source": [
    "##### Solution: \n",
    "\n",
    "Objective function: $$\\min_{x}f(x)$$\n",
    "So that: \n",
    "\\begin{align*} \n",
    "f(x)&=a x^{2}+b x+c\\\\\n",
    "f'(x)&=2ax+b\\\\\n",
    "f'(x^*)&=f'(x)=0\\\\\n",
    "x^* &= \\frac{-b}{2a}\\\\\n",
    "\\end{align*} \n",
    "Second derivative for the local minima:\n",
    "\\begin{align*} \n",
    "f''(x)&=2a\\\\\n",
    "f''(x)&=2a>0\\\\\n",
    "a&>0\\\\\n",
    "\\end{align*} \n",
    "Therefore, minima is following:$$x^* = \\frac{-b}{2a}, \\forall a>0$$ "
   ]
  },
  {
   "cell_type": "markdown",
   "id": "disturbed-marking",
   "metadata": {},
   "source": [
    "### **Question 02:**\n",
    "(1 point) \n",
    "\n",
    "What are dimensions of gradient of a function $h(x)=f(A x)$, constructed of function $f: \\mathbb{R}^{m} \\rightarrow \\mathbb{R}$ and matrix $A \\in \\mathbb{R}^{m \\times k}$, so the dimension $\\nabla h(x)$ is?"
   ]
  },
  {
   "cell_type": "markdown",
   "id": "opposite-batman",
   "metadata": {},
   "source": [
    "#### Solution:\n",
    "$\n",
    "\\nabla h(x) = \\nabla f(Ax) = Af(x)\n",
    "$ \n",
    "\n",
    "Due to $A \\in \\mathbb{R}^{m \\times k}$ and $f: \\mathbb{R}^{m} \\rightarrow \\mathbb{R}$. \n",
    "$\n",
    "\\nabla h(x) \\in \\mathbb{R}^{kx1}\\\\\n",
    "$"
   ]
  },
  {
   "cell_type": "markdown",
   "id": "french-electric",
   "metadata": {},
   "source": [
    "###  **Question 03**\n",
    "(3 point) \n",
    "\n",
    "Derive \n",
    "\n",
    "a) gradient $\\nabla f(x)$ and \n",
    "\n",
    "b) Hessian matrix $\\nabla^{2} f(x)$ (both in vector form) for the function $f(x)=(x, c)^{2} ; x \\in \\mathbb{R}^{n} .$\n",
    "\n",
    "Note: $(x, c) = x^T\\cdot c$"
   ]
  },
  {
   "cell_type": "markdown",
   "id": "trying-champagne",
   "metadata": {},
   "source": [
    "##### Solution\n",
    "a)\n",
    "<!-- \\nabla f(x) &= \\frac{\\partial f(x)}{\\partial x} = \\frac{(x^T\\cdot c)^2}{x}\\\\\n",
    "\\nabla f(x) &= 2c(x^T\\cdot c) -->\n",
    "\\begin{aligned}\n",
    "\\boldsymbol{\\nabla} f(x, y) &=\\frac{\\partial f}{\\partial x} \\boldsymbol{i}+\\frac{\\partial f}{\\partial y} \\boldsymbol{j} \\\\\n",
    "\\boldsymbol{\\nabla} f(x) \n",
    "&=\\frac{\\partial f}{\\partial x} \\boldsymbol{i} \\\\\n",
    "&=\\frac{\\partial}{\\partial x}\\left(x^T\\cdot c\\right)^2 \\boldsymbol{i}\\\\\n",
    "&=2(x^T \\cdot c)\\frac{\\partial}{\\partial x}\\left(x^T\\cdot c\\right)\\boldsymbol{i}\\\\\n",
    "&=2x^T c c^T\n",
    "\\end{aligned}\n",
    "\n",
    "b)\n",
    "\\begin{aligned}\n",
    "\\nabla^{2} f(x) &=\\frac{\\partial (2x^T c c^T)}{\\partial x} \\boldsymbol{i} \\\\\n",
    "&= 2c c^T\n",
    "\\end{aligned}\n"
   ]
  },
  {
   "cell_type": "markdown",
   "id": "color-affair",
   "metadata": {},
   "source": [
    "### **Question 04**\n",
    "(3 point) \n",
    "\n",
    "Derive Hessian matrix $\\nabla_{x}^{2} f(x)$ for the function $f(x)=g(A x+b)$, assuming differentiable $g: \\mathbb{R}^{m} \\rightarrow \\mathbb{R}$, with dimensions $A \\in \\mathbb{R}^{m \\times n} ; b \\in \\mathbb{R}^{m} ; x \\in \\mathbb{R}^{n}$."
   ]
  },
  {
   "cell_type": "markdown",
   "id": "optional-toronto",
   "metadata": {},
   "source": [
    "##### Solution\n",
    "\n",
    "According to gradient calculus, slide 11/37\n",
    "\\begin{aligned}\n",
    "\\nabla_x f(x) &=\\frac{\\partial g(A x+b)}{\\partial x}  \\\\ \n",
    "&= A^T \\nabla g(A x+b)\\\\\n",
    "\\nabla^2_x f(x) &=\\frac{\\partial (A^T \\nabla g(A x+b))}{\\partial x}  \\\\ \n",
    "&= A^T \\frac{\\partial \\nabla g(A x+b)}{\\partial x}  \\\\ \n",
    "&= A^T \\nabla^2 g \\frac{\\partial g(A x+b)}{\\partial x}  \\\\ \n",
    "&= A^T \\,\\, \\nabla^2 g(A x+b) \\,\\, A \\\\ \n",
    "\\end{aligned}"
   ]
  },
  {
   "cell_type": "markdown",
   "id": "amended-conservative",
   "metadata": {},
   "source": [
    "###  **Question 05**\n",
    "(3 point) \n",
    "\n",
    "Solve optimal step-size problem for the quadratic function, with symmetric positive definite matrix $A \\succ 0 \\in \\mathbb{R}^{n \\times n}$, and $x, b, d \\in \\mathbb{R}^{n}$. Your goal is to find optimal $\\gamma^{*}$ for given $A, b, d, x$. The resulting expression must be written in terms of inner products $(\\ldots, \\ldots)$\n",
    "$$\n",
    "f(\\gamma)=(A(x+\\gamma d), x+\\gamma d)+(b, x+\\gamma d) \\rightarrow \\min _{\\gamma \\in \\mathbb{R}}\n",
    "$$"
   ]
  },
  {
   "cell_type": "markdown",
   "id": "caring-entrepreneur",
   "metadata": {},
   "source": [
    "##### Solution\n",
    "<!-- f(\\gamma) &= (A(x+\\gamma d), x+\\gamma d)+(b, x+\\gamma d) + (b,x) + (b,\\gamma d)\\\\ \n",
    "&= (Ax,x) + (Ax,\\gamma d) + (A \\gamma d,x) + (A \\gamma d, \\gamma d) + (b,x) + (b,\\gamma d)\\\\ \n",
    "&= (Ax,x) + (Ax,\\gamma d) + (A \\gamma d,x) +  \\gamma(A d, d) + (b,x) + (b,\\gamma d)\\\\  -->\n",
    "\n",
    "From expression:\n",
    "\\begin{aligned}\n",
    "f(\\gamma) &= (A(x+\\gamma d)+b,x+\\gamma d) \\\\\n",
    "&= (A(x+\\gamma d),x) + (A(x+\\gamma d),\\gamma d) + (b,x) + (b,\\gamma d)\\\\\n",
    "&= (Ax,x) + (A\\gamma d,x)  + (Ax,\\gamma d) + (A\\gamma d,\\gamma d) + (b,x) + (b,\\gamma d)\\\\\n",
    "&= (Ax,x) + \\gamma(A d,x)  + \\gamma(Ax, d) + \\gamma^2(A d,d) + (b,x) + \\gamma(b,d)\\\\\n",
    "&= \\gamma^2(A d,d) + \\gamma( (A d,x) +  (Ax, d) + (b,d) ) + (Ax,x) + (b,x) \n",
    "\\end{aligned}\n",
    "\n",
    "The function will be minimum:\n",
    "\\begin{aligned}\n",
    "f'(\\gamma^*) &= 0  \\\\\n",
    "f'(\\gamma^*) &= 2\\gamma(A d,d) + ( (A d,x) +  (Ax, d) + (b,d) ) = 0 \\\\\n",
    "\\gamma^* &= -\\frac{ (A d,x) +  (Ax, d) + (b,d) }{2(A d,d)} \\\\ \n",
    "&= -\\frac{ 2(A x,d) + (b,d) }{2(A d,d)}\n",
    "\\end{aligned}\n",
    " "
   ]
  },
  {
   "cell_type": "markdown",
   "id": "mature-territory",
   "metadata": {},
   "source": [
    "###  **Question 6**\n",
    "(3 point) \n",
    "\n",
    "Derive subgradient (subdifferential) for the function $f(x)=\\left[x^{2}-1\\right]_{+}, x \\in \\mathbb{R}$. (do not write subgradient method).\n"
   ]
  },
  {
   "cell_type": "markdown",
   "id": "confused-floating",
   "metadata": {},
   "source": [
    "##### Solution\n",
    "According to figure 3. in the Subgradient lecture (S. Boyd) https://stanford.edu/class/ee364b/lectures/subgradients_notes.pdf \n",
    "\\begin{equation}\n",
    "\\partial f(x)=\n",
    "\\begin{cases}\n",
    "  -2x, & \\text{if}\\ x<-1 \\\\\n",
    "  [-2,0], & \\text{if}\\ x=-1 \\\\\n",
    "  [2,0], & \\text{if}\\ x=1 \\\\\n",
    "  2x, & \\text{if}\\ x>1 \\\\ \n",
    "\\end{cases}\n",
    "\\end{equation}"
   ]
  },
  {
   "cell_type": "markdown",
   "id": "liked-montreal",
   "metadata": {},
   "source": [
    "###  **Question 7**\n",
    "(3 point) \n",
    "\n",
    "Let $f: \\mathbb{R}^{n} \\rightarrow \\mathbb{R}$ be given by $f(x)=\\frac{1}{2} x^{\\top} Q x-x^{\\top} b$, where $b \\in \\mathbb{R}^{n}$ and $Q$ is a real symmetric matrix positive definite $n \\times n$ matrix. Suppose that we apply steepest descent (or gradient descent) method to this function with $x^{0} \\neq Q^{-1} b$. Show that method converges in one step that is $x^{1}=Q^{-1} b$, if and only if $x^{0}$ is chosen such that $g^{0}=Q x^{0}-b$ is an eigenvector of $Q$."
   ]
  },
  {
   "cell_type": "markdown",
   "id": "earlier-surgery",
   "metadata": {},
   "source": [
    "##### Solution\n",
    "The gradient of $f(x)$\n",
    "\\begin{aligned}\n",
    "\\nabla f(x) &= Q x-b =g \n",
    "\\end{aligned}\n",
    "According to the gradient descent\n",
    "\\begin{aligned}\n",
    "x^{k+1} &= x^k - \\gamma \\nabla f(x^k)\\\\\n",
    "x^{1} &= x^0 - \\gamma \\nabla f(x^0)\\\\\n",
    "x^{1} &= x^0 - \\gamma g^0\\\\\n",
    "Q^{-1} b &= x^0 - \\gamma(Q x^{0}-b)\\\\ \n",
    "\\frac{1}{\\gamma}(Q x^0-b) &= Q(Q x^{0}-b)\\\\ \n",
    "\\end{aligned}\n",
    "The central equation for eigenvalues and eigenvectors, where A is $n \\times n$ matrix, $x$ is eigenvectors and $\\lambda$ is eigenvalues\n",
    "\\begin{aligned}\n",
    "\\lambda x = Ax\n",
    "\\end{aligned}\n",
    "So that\n",
    "\\begin{aligned}\n",
    "n \\times n \\text{  matrix} &= Q  \\\\\n",
    "\\text{eigenvalues} &= \\frac{1}{\\gamma} \\\\\n",
    "\\text{eigenvectors} &= Q x^0-b \\,\\,\\, \\blacksquare \n",
    "\\end{aligned}"
   ]
  },
  {
   "cell_type": "markdown",
   "id": "headed-budapest",
   "metadata": {},
   "source": [
    "###  **Question 8**\n",
    "(5 point) \n",
    "\n",
    "Find the minimizer of,\n",
    "$$\n",
    "f(x, y)=x^{2}+x y+10 y^{2}-22 y-5 x\n",
    "$$\n",
    "numerically by steepest descent.\n",
    "1. For each iteration, record the values of $x, y$ and $f$ and include in a table.\n",
    "2. Plot the values on a contour plot.\n",
    "3. Explore different starting values, such as $(1,10),(10,10),(10,1)$. Does the number of steps depend significantly on the starting guess?\n"
   ]
  },
  {
   "cell_type": "markdown",
   "id": "terminal-electronics",
   "metadata": {},
   "source": [
    "##### Solution\n",
    "\\begin{aligned}\n",
    "\\boldsymbol{\\nabla} f(x, y) &=\\frac{\\partial f}{\\partial x} \\boldsymbol{i}+\\frac{\\partial f}{\\partial y} \\boldsymbol{j}\\\\\n",
    "\\boldsymbol{\\nabla} f(x, y) &= \\frac{\\partial (x^{2}+x y+10 y^{2}-22 y-5 x)}{\\partial x} \\boldsymbol{i} + \\frac{\\partial (x^{2}+x y+10 y^{2}-22 y-5 x)}{\\partial y} \\boldsymbol{j}\\\\\n",
    "\\boldsymbol{\\nabla} f(x, y) &= (2x + y -5) \\boldsymbol{i} + (x+20y-22)\\boldsymbol{j}\n",
    "\\end{aligned}\n",
    "According to the gradient descent\n",
    "\\begin{aligned}\n",
    "x^{k+1} &= x^k - \\gamma \\nabla f(x^k)\\\\\n",
    "\\end{aligned}"
   ]
  },
  {
   "cell_type": "code",
   "execution_count": 1,
   "id": "dying-berkeley",
   "metadata": {},
   "outputs": [
    {
     "name": "stdout",
     "output_type": "stream",
     "text": [
      "Vaule of each iteration at initial point, (6,5)\n"
     ]
    },
    {
     "data": {
      "text/html": [
       "<div>\n",
       "<style scoped>\n",
       "    .dataframe tbody tr th:only-of-type {\n",
       "        vertical-align: middle;\n",
       "    }\n",
       "\n",
       "    .dataframe tbody tr th {\n",
       "        vertical-align: top;\n",
       "    }\n",
       "\n",
       "    .dataframe thead th {\n",
       "        text-align: right;\n",
       "    }\n",
       "</style>\n",
       "<table border=\"1\" class=\"dataframe\">\n",
       "  <thead>\n",
       "    <tr style=\"text-align: right;\">\n",
       "      <th></th>\n",
       "      <th>x</th>\n",
       "      <th>y</th>\n",
       "      <th>f</th>\n",
       "    </tr>\n",
       "  </thead>\n",
       "  <tbody>\n",
       "    <tr>\n",
       "      <th>0</th>\n",
       "      <td>6.000000</td>\n",
       "      <td>5.000000</td>\n",
       "      <td>176.000000</td>\n",
       "    </tr>\n",
       "    <tr>\n",
       "      <th>1</th>\n",
       "      <td>5.400000</td>\n",
       "      <td>0.800000</td>\n",
       "      <td>-4.720000</td>\n",
       "    </tr>\n",
       "    <tr>\n",
       "      <th>2</th>\n",
       "      <td>5.070000</td>\n",
       "      <td>0.830000</td>\n",
       "      <td>-6.808000</td>\n",
       "    </tr>\n",
       "    <tr>\n",
       "      <th>3</th>\n",
       "      <td>4.771500</td>\n",
       "      <td>0.846500</td>\n",
       "      <td>-8.508590</td>\n",
       "    </tr>\n",
       "    <tr>\n",
       "      <th>4</th>\n",
       "      <td>4.502025</td>\n",
       "      <td>0.861425</td>\n",
       "      <td>-9.894559</td>\n",
       "    </tr>\n",
       "    <tr>\n",
       "      <th>...</th>\n",
       "      <td>...</td>\n",
       "      <td>...</td>\n",
       "      <td>...</td>\n",
       "    </tr>\n",
       "    <tr>\n",
       "      <th>69</th>\n",
       "      <td>2.003242</td>\n",
       "      <td>0.999820</td>\n",
       "      <td>-15.999990</td>\n",
       "    </tr>\n",
       "    <tr>\n",
       "      <th>70</th>\n",
       "      <td>2.002927</td>\n",
       "      <td>0.999838</td>\n",
       "      <td>-15.999992</td>\n",
       "    </tr>\n",
       "    <tr>\n",
       "      <th>71</th>\n",
       "      <td>2.002642</td>\n",
       "      <td>0.999854</td>\n",
       "      <td>-15.999993</td>\n",
       "    </tr>\n",
       "    <tr>\n",
       "      <th>72</th>\n",
       "      <td>2.002385</td>\n",
       "      <td>0.999868</td>\n",
       "      <td>-15.999994</td>\n",
       "    </tr>\n",
       "    <tr>\n",
       "      <th>73</th>\n",
       "      <td>2.002153</td>\n",
       "      <td>0.999881</td>\n",
       "      <td>-15.999995</td>\n",
       "    </tr>\n",
       "  </tbody>\n",
       "</table>\n",
       "<p>74 rows × 3 columns</p>\n",
       "</div>"
      ],
      "text/plain": [
       "           x         y           f\n",
       "0   6.000000  5.000000  176.000000\n",
       "1   5.400000  0.800000   -4.720000\n",
       "2   5.070000  0.830000   -6.808000\n",
       "3   4.771500  0.846500   -8.508590\n",
       "4   4.502025  0.861425   -9.894559\n",
       "..       ...       ...         ...\n",
       "69  2.003242  0.999820  -15.999990\n",
       "70  2.002927  0.999838  -15.999992\n",
       "71  2.002642  0.999854  -15.999993\n",
       "72  2.002385  0.999868  -15.999994\n",
       "73  2.002153  0.999881  -15.999995\n",
       "\n",
       "[74 rows x 3 columns]"
      ]
     },
     "execution_count": 1,
     "metadata": {},
     "output_type": "execute_result"
    },
    {
     "data": {
      "image/png": "[encoded data removed]",
      "text/plain": [
       "<Figure size 720x720 with 1 Axes>"
      ]
     },
     "metadata": {
      "needs_background": "light"
     },
     "output_type": "display_data"
    }
   ],
   "source": [
    "import numpy as np \n",
    "import matplotlib.pyplot as plt \n",
    "import pandas as pd\n",
    "from scipy.optimize import minimize\n",
    "import warnings\n",
    "warnings.filterwarnings(\"ignore\")\n",
    "\n",
    "\n",
    "def f_n1(x):\n",
    "    f1 = x[0]**2 + x[0]*x[1] + 10*x[1]**2 -22*x[1]-5*x[0]\n",
    "    return f1\n",
    "def grad_f_n1(x):\n",
    "    g_f1 = ((2*x[0] + x[1] -5), (x[0]+20*x[1]-22))\n",
    "    return g_f1\n",
    "\n",
    "def gradient_descent(x0):\n",
    "    max_tol = 1e-6\n",
    "    max_iter = 200\n",
    "    gamma = 0.05\n",
    "    x_k = x0\n",
    "    l_x = []\n",
    "    f = []\n",
    "    i = 0\n",
    "    tol = 1e-3\n",
    "    oralce_call = 0 \n",
    "    while i < max_iter:\n",
    "        g_f_xk = grad_f_n1(x_k)\n",
    "        g_f_xk = np.array(g_f_xk)\n",
    "        x_kk = x_k-gamma*g_f_xk\n",
    "        oralce_call += 1\n",
    "        l_x.append(x_k)\n",
    "        f.append(f_n1(x_k))\n",
    "        x_prev_v = np.vectorize(f_n1, signature='(2)->()')\n",
    "        x_curr_v = np.vectorize(f_n1, signature='(2)->()')\n",
    "        tol = abs(x_prev_v(x_k)-x_curr_v(x_kk))\n",
    "        x_k = x_kk\n",
    "        if tol <= max_tol:\n",
    "            break \n",
    "        i += 1\n",
    "    return l_x,oralce_call,i,f\n",
    "\n",
    "def plot_feasible():\n",
    "    X = np.arange(-10, 12, 0.1)\n",
    "    Y = np.arange(-10, 12, 0.1)\n",
    "    X, Y = np.meshgrid(X, Y)\n",
    "    fv = np.vectorize(f_n1, signature='(2)->()') # apply x and y coordinate into Mishra function\n",
    "    Z = fv(np.stack((X, Y), axis=-1))\n",
    "    fig, ax = plt.subplots(figsize= (10,10))  \n",
    "    plt.contourf(X, Y, Z)\n",
    "    plt.grid(True) \n",
    "    plt.title(\"Trail of gradient descent method\")  \n",
    "    plt.xlabel('x')\n",
    "    plt.ylabel('y')\n",
    "\n",
    "res_1,or_call_1,iter_num_1,f_1=gradient_descent(np.array([6,5]))  \n",
    "plot_feasible() \n",
    "plt.plot(np.array(res_1)[:,0], np.array(res_1)[:,0], 'o-', color = 'y', label = \"initial point=(6, 5)\")\n",
    "plt.legend()\n",
    "\n",
    "df_1 = pd.DataFrame(res_1, columns = ['x','y']) \n",
    "df_1['f'] = np.array(f_1)\n",
    "print(\"Vaule of each iteration at initial point, (6,5)\")\n",
    "df_1"
   ]
  },
  {
   "cell_type": "code",
   "execution_count": 2,
   "id": "binary-trainer",
   "metadata": {},
   "outputs": [
    {
     "data": {
      "text/plain": [
       "[]"
      ]
     },
     "execution_count": 2,
     "metadata": {},
     "output_type": "execute_result"
    },
    {
     "data": {
      "image/png": "[encoded data removed]",
      "text/plain": [
       "<Figure size 720x720 with 1 Axes>"
      ]
     },
     "metadata": {
      "needs_background": "light"
     },
     "output_type": "display_data"
    }
   ],
   "source": [
    "res_3,_,iter_num_3,_=gradient_descent(np.array([1,10])) \n",
    "res_4,_,iter_num_4,_=gradient_descent(np.array([10,10]))  \n",
    "res_5,_,iter_num_5,_=gradient_descent(np.array([10,1]))   \n",
    "plot_feasible() \n",
    "plt.plot(np.array(res_3)[:,0], np.array(res_3)[:,1], 'o-', color = 'c', label = f\"initial point=(1,10) with {iter_num_3} steps\")\n",
    "plt.plot(np.array(res_4)[:,0], np.array(res_4)[:,1], 'o-', color = 'y', label = f\"initial point=(10,10) with {iter_num_4} steps\")\n",
    "plt.plot(np.array(res_5)[:,0], np.array(res_5)[:,1], 'o-', color = 'm', label = f\"initial point=(10,1) with {iter_num_5} steps\")\n",
    "plt.legend()\n",
    "plt.plot() "
   ]
  },
  {
   "cell_type": "markdown",
   "id": "appreciated-mumbai",
   "metadata": {},
   "source": [
    "###  **Question 9**\n",
    "(9 point) \n",
    "\n",
    "Let the cost function of the unconstrained optimization problem of interest be\n",
    "$$\n",
    "f(x)=\\frac{1}{4}\\left(x_{1}-1\\right)^{2}+\\sum_{i=2}^{n}\\left(2 x_{i-1}^{2}-x_{i}-1\\right)^{2}\n",
    "$$\n",
    "Consider two different scenarios, first $n=3$, and then $n=10$. Recall that the steepest descent algorithm is,\n",
    "$$\n",
    "x^{k+1}=x^{k}-\\alpha^{k} \\nabla f\\left(x^{k}\\right), \\quad \\alpha^{k} \\in \\mathbb{R}_{>0}\n",
    "$$\n",
    "1. Using $x^{0}=[-1.5,1, \\ldots, 1]^{\\top}$ write out the first iteration of the steepest descent algorithm and obtain the optimum value for $\\alpha^{0}$. What is the value of $x^{1}$ if you implement $\\alpha^{0}$ ? Verify that $f\\left(x^{1}\\right)<f\\left(x^{0}\\right)$ ?\n",
    "2. Write a code to find the minimizer of $f(x)$ using steepest descent algorithm with starting point of $x^{0}=[-1.5,1, \\ldots, 1]^{\\top}$ and using\n",
    "- $\\alpha^{k}=\\operatorname{argmin} f\\left(x^{k}-\\alpha \\nabla f\\left(x^{k}\\right)\\right)$.\n",
    "- constant $\\alpha=0.1$.\n",
    "- constant $\\alpha=0.5$.\n",
    "- constant $\\alpha=1.0$. (Use $\\left\\|x^{k+1}-x^{k}\\right\\| \\leq 10^{-6}$ as the stopping condition for your algorithm.)\n",
    "3. How many steps it takes for the algorithm to converge for each choices of the step sizes above?\n",
    "4. Use fminbnd from Matlab or an equivalent function from the programming language of your choice to solve the problem. How many steps this algorithm takes to converge?"
   ]
  },
  {
   "cell_type": "markdown",
   "id": "split-nigeria",
   "metadata": {},
   "source": [
    "##### Solution\n",
    "\\begin{aligned}\n",
    "\\boldsymbol{\\nabla} f(x, y) &=\\frac{\\partial f}{\\partial x} \\boldsymbol{i}+\\frac{\\partial f}{\\partial y} \\boldsymbol{j} \\\\ \n",
    "\\boldsymbol{\\nabla} f(x) &=\\frac{\\partial (\\frac{1}{4}\\left(x_{1}-1\\right)^{2}+\\sum_{i=2}^{n}\\left(2 x_{i-1}^{2}-x_{i}-1\\right)^{2}) }{\\partial x}  \\\\ \n",
    "\\boldsymbol{\\nabla} f(x) &= \\frac{1}{2}(x_{1}-1) + \\sum_{i=2}^{n} 2(2 x_{i-1}^{2}-x_{i}-1)(4x_{i-1}-1)\n",
    "\\end{aligned}\n",
    "\n",
    "\n"
   ]
  },
  {
   "cell_type": "markdown",
   "id": "tutorial-genius",
   "metadata": {},
   "source": [
    "### 9.1"
   ]
  },
  {
   "cell_type": "code",
   "execution_count": 6,
   "id": "sharing-typing",
   "metadata": {},
   "outputs": [
    {
     "name": "stdout",
     "output_type": "stream",
     "text": [
      "f(x0) = 6.250 and f(x1) = 1.795 so that f(x0) > f(x1)\n"
     ]
    }
   ],
   "source": [
    "# Ver 2\n",
    "def f_n2(x):\n",
    "    sum_f = 0\n",
    "    for j in range(2-1,len(x)):\n",
    "        sum_f += (2*x[j-1]**2 - x[j] - 1)**2\n",
    "    f = (1/4)*(x[1]-1)**2 + sum_f\n",
    "    return f\n",
    "\n",
    "def gradf(x): ## likely to be wrong!!\n",
    "    sum_f = 0\n",
    "    for j in range(2-1,len(x)):\n",
    "        sum_f += 2*(2*x[j-1]**2 - x[j] - 1)*(4*x[j-1]-1)\n",
    "    f = (1/2)*(x[1]-1) + sum_f\n",
    "    return f\n",
    "\n",
    " \n",
    "def gradient_descent9(x0, alpha):\n",
    "    max_tol = 1e-6\n",
    "    max_iter = 1000 \n",
    "    x_k = x0\n",
    "    i = 0\n",
    "    tol = 1e-6\n",
    "    f_l =[]\n",
    "    num_steps = 0\n",
    "    f_l = []\n",
    "    if alpha == \"find optimal (using argmin)\":\n",
    "        alpha = np.arange(0, 1, 0.01) \n",
    "        for a in alpha:\n",
    "            g = gradf(x_k) \n",
    "            f_x_kk = f_n2(x_k - a * g)  \n",
    "            f_l.append(f_x_kk)\n",
    "        opt_idx = np.argmin(f_l)\n",
    "        alpha_opt = alpha[opt_idx]\n",
    "    else:\n",
    "        alpha_opt = alpha\n",
    "    for i in range(max_iter): \n",
    "        cur_x = x_k - alpha_opt*gradf(x_k)\n",
    "        f_l.append(f_n2(x_k))\n",
    "        num_steps += 1\n",
    "        if np.linalg.norm(cur_x - x_k) <= tol:\n",
    "            break\n",
    "        x_k = cur_x\n",
    "        \n",
    "    return num_steps, f_n2(x_k), x_k,f_l,alpha_opt    \n",
    "x0 = np.array([-1.5, 1, 1])\n",
    "alpha_1 = 0.01\n",
    "num_steps_res,f_res, x_k_res,f_l_res,_ = gradient_descent9(x0, alpha_1)\n",
    "print(f'f(x0) = {f_l_res[0]:.3f} and f(x1) = {f_l_res[1]:.3f} so that f(x0) > f(x1)')"
   ]
  },
  {
   "cell_type": "markdown",
   "id": "central-cleaner",
   "metadata": {},
   "source": [
    "#### Case 1: x0 = [-1.5, 1, 1]"
   ]
  },
  {
   "cell_type": "code",
   "execution_count": 7,
   "id": "identical-cookbook",
   "metadata": {},
   "outputs": [
    {
     "name": "stdout",
     "output_type": "stream",
     "text": [
      "Alpha = find optimal (using argmin)\n",
      "The optimal x = [-1.22135949  1.27864051  1.27864051]\n",
      "f = 1.4986322356541668\n",
      "Iteration step = 9\n",
      "\n",
      "Alpha = 0.1\n",
      "The optimal x = [nan nan nan]\n",
      "f = nan\n",
      "Iteration step = 1000\n",
      "\n",
      "Alpha = 0.5\n",
      "The optimal x = [nan nan nan]\n",
      "f = nan\n",
      "Iteration step = 1000\n",
      "\n",
      "Alpha = 1\n",
      "The optimal x = [nan nan nan]\n",
      "f = nan\n",
      "Iteration step = 1000\n",
      "\n"
     ]
    }
   ],
   "source": [
    "x0 = np.array( [-1.5, 1, 1 ])\n",
    "alphas = [\"find optimal (using argmin)\", 0.1, 0.5, 1]\n",
    "for a in alphas:\n",
    "    num_steps_res,f_res, x_k_res,f_l_res,alpha_opt_res = gradient_descent9(x0, a)\n",
    "    print(f'Alpha = {a}\\nThe optimal x = {x_k_res}\\nf = {f_n2(x_k_res)}\\nIteration step = {num_steps_res}\\n') "
   ]
  },
  {
   "cell_type": "markdown",
   "id": "failing-guard",
   "metadata": {},
   "source": [
    "#### Case 2: x0 = [-1.5, 1, 1, 1,]\n",
    "\n",
    "If alpha or step size is too large, the algorithm cannot converge. The number of dimension increase at the certain number, the step size is almost zero. "
   ]
  },
  {
   "cell_type": "code",
   "execution_count": 8,
   "id": "civic-challenge",
   "metadata": {},
   "outputs": [
    {
     "name": "stdout",
     "output_type": "stream",
     "text": [
      "Alpha = find optimal (using argmin)\n",
      "The optimal x = [-1.27309364  1.22690636  1.22690636  1.22690636]\n",
      "f = 2.270689089829234\n",
      "Iteration step = 25\n",
      "\n",
      "Alpha = 0.1\n",
      "The optimal x = [nan nan nan nan]\n",
      "f = nan\n",
      "Iteration step = 1000\n",
      "\n",
      "Alpha = 0.5\n",
      "The optimal x = [nan nan nan nan]\n",
      "f = nan\n",
      "Iteration step = 1000\n",
      "\n",
      "Alpha = 1\n",
      "The optimal x = [nan nan nan nan]\n",
      "f = nan\n",
      "Iteration step = 1000\n",
      "\n"
     ]
    }
   ],
   "source": [
    "x0 = np.array( [-1.5, 1, 1, 1, ])\n",
    "alphas = [\"find optimal (using argmin)\", 0.1, 0.5, 1]\n",
    "for a in alphas:\n",
    "    num_steps_res,f_res, x_k_res,f_l_res,alpha_opt_res = gradient_descent9(x0, a)\n",
    "    print(f'Alpha = {a}\\nThe optimal x = {x_k_res}\\nf = {f_n2(x_k_res)}\\nIteration step = {num_steps_res}\\n') "
   ]
  },
  {
   "cell_type": "markdown",
   "id": "changing-anthropology",
   "metadata": {},
   "source": [
    "#### Case 3: x0 = [-1.5,1, 1, 1, 1, 1, 1, 1, 1, 1, ]"
   ]
  },
  {
   "cell_type": "code",
   "execution_count": 9,
   "id": "spanish-tyler",
   "metadata": {},
   "outputs": [
    {
     "name": "stdout",
     "output_type": "stream",
     "text": [
      "Dimension: 10\n",
      "Alpha = find optimal (using argmin)\n",
      "The optimal x = [-1.5  1.   1.   1.   1.   1.   1.   1.   1.   1. ]\n",
      "f = 6.25\n",
      "Iteration step = 1\n",
      "\n",
      "Alpha = 0.1\n",
      "The optimal x = [nan nan nan nan nan nan nan nan nan nan]\n",
      "f = nan\n",
      "Iteration step = 1000\n",
      "\n",
      "Alpha = 0.5\n",
      "The optimal x = [nan nan nan nan nan nan nan nan nan nan]\n",
      "f = nan\n",
      "Iteration step = 1000\n",
      "\n",
      "Alpha = 1\n",
      "The optimal x = [nan nan nan nan nan nan nan nan nan nan]\n",
      "f = nan\n",
      "Iteration step = 1000\n",
      "\n"
     ]
    }
   ],
   "source": [
    "x0 = np.array( [-1.5,1, 1, 1, 1, 1, 1, 1, 1, 1, ])\n",
    "print(f\"Dimension: {len(x0)}\")\n",
    "alphas = [\"find optimal (using argmin)\", 0.1, 0.5, 1]\n",
    "for a in alphas:\n",
    "    num_steps_res,f_res, x_k_res,f_l_res,alpha_opt_res = gradient_descent9(x0, a)\n",
    "    print(f'Alpha = {a}\\nThe optimal x = {x_k_res}\\nf = {f_n2(x_k_res)}\\nIteration step = {num_steps_res}\\n') \n",
    "\n",
    "\n"
   ]
  },
  {
   "cell_type": "code",
   "execution_count": 10,
   "id": "renewable-airline",
   "metadata": {},
   "outputs": [
    {
     "name": "stdout",
     "output_type": "stream",
     "text": [
      "Optimization terminated successfully.\n",
      "         Current function value: 0.000000\n",
      "         Iterations: 18\n",
      "         Function evaluations: 88\n",
      "         Gradient evaluations: 22\n",
      "It takes 18 iteration until convergence. \n",
      "The optimal value x = [-0.9999999   0.9999997   0.99999835]\n"
     ]
    }
   ],
   "source": [
    "def f_der(x):\n",
    "    xm = x[1:-1] #x_j\n",
    "    xm_m1 = x[:-2] #x_{j-1}\n",
    "    sum_f_1 = 0\n",
    "    sum_f_2 = 0\n",
    "    for j in range(2-1,len(x)):\n",
    "        sum_f_1 += 2*(4*xm_m1 - 1)*(4*xm_m1-1)\n",
    "        sum_f_2 += 8*(2*xm_m1**2 - xm - 1)\n",
    "    der = (1/2)*(x[1]-1) + sum_f_1 + sum_f_2\n",
    "    return der\n",
    "\n",
    "x0 = np.array( [-1.5, 1, 1 ])\n",
    "res = minimize(f_n2, x0, options={'xatol': 1e-8, 'disp': True})\n",
    "print(f\"It takes 18 iteration until convergence. \\nThe optimal value x = {res.x}\")"
   ]
  }
 ],
 "metadata": {
  "kernelspec": {
   "display_name": "Python 3",
   "language": "python",
   "name": "python3"
  },
  "language_info": {
   "codemirror_mode": {
    "name": "ipython",
    "version": 3
   },
   "file_extension": ".py",
   "mimetype": "text/x-python",
   "name": "python",
   "nbconvert_exporter": "python",
   "pygments_lexer": "ipython3",
   "version": "3.8.3"
  }
 },
 "nbformat": 4,
 "nbformat_minor": 5
}
